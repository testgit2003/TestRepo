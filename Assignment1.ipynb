{
 "cells": [
  {
   "cell_type": "markdown",
   "id": "9e928c69-29c1-4b15-8a3c-cb13b339c19b",
   "metadata": {},
   "source": [
    "NOTEBOOK"
   ]
  },
  {
   "cell_type": "markdown",
   "id": "0c2b5103-33c7-4d12-bcd1-6dc79b17ce62",
   "metadata": {},
   "source": [
    "INTRODUCTION"
   ]
  },
  {
   "cell_type": "markdown",
   "id": "f5db24ac-9f8a-4a38-a9cc-609426fce16f",
   "metadata": {},
   "source": [
    "Data Science Languages:\n",
    "1. Python\n",
    "2. Java\n",
    "3. SQL"
   ]
  },
  {
   "cell_type": "markdown",
   "id": "15a1fcea-808f-435d-9a5e-8c5e9532e1ea",
   "metadata": {},
   "source": [
    "Data Science Libraries:\n",
    "1. Numpy\n",
    "2. Pandas\n",
    "3. Matplotlib"
   ]
  },
  {
   "cell_type": "markdown",
   "id": "8dfc1067-c33e-4ca7-aaf9-24029b1d142d",
   "metadata": {},
   "source": [
    "|Data Science Tools |\n",
    "|-------------------|\n",
    "| Jyputer Notebook   |\n",
    "|  R                |\n",
    "|Python           |\n",
    "|Apace Hadoop      |"
   ]
  },
  {
   "cell_type": "markdown",
   "id": "0673c1b6-4cf0-4076-9212-adae40ffacce",
   "metadata": {},
   "source": [
    "Airthematic Expression Example:"
   ]
  },
  {
   "cell_type": "code",
   "execution_count": 48,
   "id": "d33d3fa3-fa9f-49f2-9f65-f2f4ad122b02",
   "metadata": {},
   "outputs": [
    {
     "name": "stdout",
     "output_type": "stream",
     "text": [
      "8\n",
      "5\n",
      "16\n",
      "5.0\n"
     ]
    }
   ],
   "source": [
    "print(5+3) #Addition\n",
    "print(9-4) #Substraction\n",
    "print(8*2) #Multiplication\n",
    "print(15/3) #Division"
   ]
  },
  {
   "cell_type": "code",
   "execution_count": 54,
   "id": "213b9b29-1d16-4b16-8259-6b3f37f661a4",
   "metadata": {},
   "outputs": [
    {
     "name": "stdout",
     "output_type": "stream",
     "text": [
      "42\n"
     ]
    }
   ],
   "source": [
    "print((4*9)+6) "
   ]
  },
  {
   "cell_type": "code",
   "execution_count": 24,
   "id": "7aa3e465-d10b-4607-ac8a-7c130f8ccbe3",
   "metadata": {},
   "outputs": [],
   "source": [
    "minutes = 200\n",
    "hours = 200 / 60"
   ]
  },
  {
   "cell_type": "markdown",
   "id": "9abf2b4f-f967-4315-944d-77155003616c",
   "metadata": {},
   "source": [
    " **Objectives**\n",
    " 1. Create a Jyputer Notebook\n",
    " 2. Markdown Cells\n",
    " 3. Insert Code\n",
    " 4. Share your Notebook\n",
    "\n",
    "- Python\n",
    "- Java\n",
    "- SQL\n",
    "- R"
   ]
  },
  {
   "cell_type": "markdown",
   "id": "a8c3321c-85f0-46b1-adc0-d4551b3eed0f",
   "metadata": {},
   "source": [
    "## AUTHOR"
   ]
  },
  {
   "cell_type": "markdown",
   "id": "4fc5b164-e753-4889-911c-7d3fd86c6718",
   "metadata": {},
   "source": [
    "ALISHA SINGH"
   ]
  },
  {
   "cell_type": "code",
   "execution_count": null,
   "id": "86dd2c1e-5bd0-4973-b377-8c3b410412dc",
   "metadata": {},
   "outputs": [],
   "source": []
  }
 ],
 "metadata": {
  "kernelspec": {
   "display_name": "Python [conda env:base] *",
   "language": "python",
   "name": "conda-base-py"
  },
  "language_info": {
   "codemirror_mode": {
    "name": "ipython",
    "version": 3
   },
   "file_extension": ".py",
   "mimetype": "text/x-python",
   "name": "python",
   "nbconvert_exporter": "python",
   "pygments_lexer": "ipython3",
   "version": "3.12.7"
  }
 },
 "nbformat": 4,
 "nbformat_minor": 5
}
